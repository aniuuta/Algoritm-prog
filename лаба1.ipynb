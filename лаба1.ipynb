{
  "cells": [
    {
      "cell_type": "code",
      "execution_count": 1,
      "metadata": {
        "id": "oBs_EzJZGAmU",
        "outputId": "a1732422-a1a9-428f-b2a8-e700b618156a",
        "colab": {
          "base_uri": "https://localhost:8080/"
        }
      },
      "outputs": [
        {
          "output_type": "stream",
          "name": "stdout",
          "text": [
            "0 -> 1 -> 2 -> 3 -> 4 -> 5 -> None\n",
            "5 -> 4 -> 3 -> 2 -> 1 -> 0 -> None\n"
          ]
        }
      ],
      "source": [
        "class LinkedList:\n",
        "    class Node:  # Вложенный класс для представления узла списка\n",
        "        def __init__(self, key):  # Конструктор узла, принимает ключ (значение узла)\n",
        "            self.key = key  # Сохранение ключа\n",
        "            self.next = None  # Изначально следующий узел равен None\n",
        "\n",
        "    def __init__(self):  # Конструктор для связного списка\n",
        "        self.head = None  # Изначально голова списка равна None\n",
        "\n",
        "    def __add_node_rec(self, node, key):  # Рекурсивный метод для добавления узла\n",
        "        if node.next:  # Если следующий узел существует\n",
        "            self.__add_node_rec(node.next, key)  # Рекурсивно вызываем для следующего узла\n",
        "        else:  # Если следующий узел отсутствует\n",
        "            new_node = self.Node(key)  # Создаем новый узел с переданным ключом\n",
        "            node.next = new_node  # Присоединяем новый узел к текущему\n",
        "\n",
        "    def add_element(self, key):  # Метод для добавления элемента в список\n",
        "        if self.head is None:  # Если список пуст (голова равна None)\n",
        "            self.head = self.Node(key)  # Создаем новый узел и устанавливаем его как голову\n",
        "        else:\n",
        "            self.__add_node_rec(self.head, key)  # Добавляем элемент рекурсивно\n",
        "\n",
        "    def __rev_list_rec(self, prev_node, curr_node):  # Рекурсивный метод для реверсирования списка\n",
        "        if curr_node is None:  # Если текущий узел равен None (достигли конца списка)\n",
        "            self.head = prev_node  # Устанавливаем голову списка на предыдущий узел\n",
        "            return\n",
        "\n",
        "        next_node = curr_node.next  # Сохраняем следующий узел\n",
        "        curr_node.next = prev_node  # Меняем направление ссылки текущего узла на предыдущий\n",
        "\n",
        "        self.__rev_list_rec(curr_node, next_node)  # Рекурсивный вызов для следующего узла\n",
        "\n",
        "    def reverse_list(self):  # Метод для реверсирования списка\n",
        "        if self.head is not None:  # Если список не пуст\n",
        "            self.__rev_list_rec(None, self.head)  # Начинаем реверсирование с головы списка\n",
        "\n",
        "    def list_elements(self):  # Метод для вывода элементов списка\n",
        "        tmp = self.head  # Начинаем с головы списка\n",
        "        while tmp:  # Пока текущий узел не равен None\n",
        "            print(tmp.key,\"->\", end =\" \")  # Печатаем ключ текущего узла и стрелку\n",
        "            tmp = tmp.next  # Переходим к следующему узлу\n",
        "        print(\"None\")  # В конце выводим None, чтобы показать конец списка\n",
        "\n",
        "# Пример использования связного списка\n",
        "ll = LinkedList()\n",
        "for i in range(6):  # Добавляем элементы от 0 до 5 в список\n",
        "    ll.add_element(i)\n",
        "ll.list_elements()  # Выводим элементы списка\n",
        "ll.reverse_list()  # Реверсируем список\n",
        "ll.list_elements()  # Выводим элементы списка после реверсирования\n"
      ]
    }
  ],
  "metadata": {
    "kernelspec": {
      "display_name": "Python 3",
      "language": "python",
      "name": "python3"
    },
    "language_info": {
      "codemirror_mode": {
        "name": "ipython",
        "version": 3
      },
      "file_extension": ".py",
      "mimetype": "text/x-python",
      "name": "python",
      "nbconvert_exporter": "python",
      "pygments_lexer": "ipython3",
      "version": "3.9.0"
    },
    "colab": {
      "provenance": []
    }
  },
  "nbformat": 4,
  "nbformat_minor": 0
}