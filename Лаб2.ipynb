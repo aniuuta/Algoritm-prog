{
  "cells": [
    {
      "cell_type": "code",
      "execution_count": 9,
      "metadata": {
        "colab": {
          "base_uri": "https://localhost:8080/"
        },
        "id": "WipUb70PYWOM",
        "outputId": "8aacd27e-ca61-40b7-fe98-6216e075210f"
      },
      "outputs": [
        {
          "output_type": "stream",
          "name": "stdout",
          "text": [
            "10 1\n",
            "2 3 4 5 6 7 8 9 10 1\n",
            "4 2 3 5 6 7 8 9 10 1\n"
          ]
        }
      ],
      "source": [
        "class RankingSystem:\n",
        "    def __init__(self, num_features, feature_weights, objects_features):\n",
        "        # Инициализация системы ранжирования с заданным количеством признаков,\n",
        "        # весами признаков и характеристиками объектов.\n",
        "        self.num_features = num_features  # Количество признаков\n",
        "        self.feature_weights = feature_weights  # Веса для каждого признака\n",
        "        self.objects_features = objects_features  # Характеристики объектов\n",
        "        # Вычисляем релевантность для каждого объекта и сохраняем в списке\n",
        "        self.relevance_scores = [self.calculate_relevance(object_idx) for object_idx in range(len(objects_features))]\n",
        "        # Сортируем индексы объектов по их релевантности\n",
        "        self.sorted_indices = self.sort_indices()\n",
        "\n",
        "    def calculate_relevance(self, object_idx):\n",
        "        # Вычисляем релевантность объекта по его характеристикам и весам признаков\n",
        "        return sum(self.feature_weights[feature_idx] * self.objects_features[object_idx][feature_idx] for feature_idx in range(self.num_features))\n",
        "\n",
        "    def sort_indices(self):\n",
        "        # Сортируем индексы объектов по их релевантности\n",
        "        indices = list(range(len(self.relevance_scores)))  # Создаем список индексов объектов\n",
        "        return sorted(indices, key=lambda idx: self.relevance_scores[idx])  # Сортируем индексы по значениям релевантности\n",
        "\n",
        "    def update_feature(self, object_idx, feature_idx, new_value):\n",
        "        # Обновляем значение признака для указанного объекта\n",
        "        self.objects_features[object_idx][feature_idx] = new_value\n",
        "        new_relevance = self.calculate_relevance(object_idx)  # Вычисляем новую релевантность\n",
        "\n",
        "        # Обновляем релевантность объекта в списке\n",
        "        old_relevance = self.relevance_scores[object_idx]\n",
        "        self.relevance_scores[object_idx] = new_relevance\n",
        "\n",
        "        # Удаляем старый индекс из отсортированного списка и вставляем новый\n",
        "        self.sorted_indices.remove(object_idx)  # Удаляем старый индекс\n",
        "        self.insert_sorted(object_idx)  # Вставляем индекс на новое место\n",
        "\n",
        "    def insert_sorted(self, object_idx):\n",
        "        # Вставляем индекс объекта в отсортированный список на правильную позицию\n",
        "        relevance = self.relevance_scores[object_idx]  # Получаем релевантность объекта\n",
        "        inserted = False  # Флаг для отслеживания вставки\n",
        "\n",
        "        for i in range(len(self.sorted_indices)):\n",
        "            if self.relevance_scores[self.sorted_indices[i]] < relevance:  # Находим позицию для вставки\n",
        "                self.sorted_indices.insert(i, object_idx)  # Вставляем индекс\n",
        "                inserted = True  # Устанавливаем флаг вставки в True\n",
        "                break\n",
        "\n",
        "        if not inserted:\n",
        "            self.sorted_indices.append(object_idx)  # Если не вставили, добавляем в конец\n",
        "\n",
        "    def get_top_k(self, k):\n",
        "        # Получаем топ k объектов с наибольшими значениями релевантности\n",
        "        if k > len(self.relevance_scores):  # Проверяем, не превышает ли k количество объектов\n",
        "            k = len(self.relevance_scores)\n",
        "\n",
        "        top_k_indices = self.sorted_indices[-k:]  # Получаем последние k индексов из отсортированного списка\n",
        "        return [idx + 1 for idx in top_k_indices]  # Возвращаем индексы с учетом 1-индексации\n",
        "\n",
        "def main():\n",
        "    num_features = 2  # Количество признаков\n",
        "    feature_weights = [1, 100]  # Веса признаков\n",
        "    num_objects = 10  # Количество объектов\n",
        "    objects_features = [  # Характеристики объектов\n",
        "        [1, 2],\n",
        "        [2, 1],\n",
        "        [3, 1],\n",
        "        [4, 1],\n",
        "        [5, 1],\n",
        "        [6, 1],\n",
        "        [7, 1],\n",
        "        [8, 1],\n",
        "        [9, 1],\n",
        "        [10, 1]\n",
        "    ]\n",
        "    num_queries = 4  # Количество запросов\n",
        "    queries = [  # Запросы к системе\n",
        "        \"1 2\",   # Получить топ-2 объекта\n",
        "        \"1 10\",  # Получить топ-10 объектов\n",
        "        \"2 4 1 1000\",  # Обновить признак объекта (4-й) на новое значение (1000) для первого признака\n",
        "        \"1 10\"   # Получить топ-10 объектов после обновления\n",
        "    ]\n",
        "\n",
        "    ranking_system = RankingSystem(num_features, feature_weights, objects_features)  # Создаем экземпляр системы ранжирования\n",
        "    results = []  # Список для хранения результатов запросов\n",
        "    for query in queries:\n",
        "        query_parts = list(map(int, query.split()))  # Разделяем запрос на части и преобразуем в целые числа\n",
        "        if query_parts[0] == 1:\n",
        "            top_k = query_parts[1]\n",
        "            results.append(\" \".join(map(str, ranking_system.get_top_k(top_k))))  # Получаем топ-k и добавляем в результаты\n",
        "        elif query_parts[0] == 2:\n",
        "            object_idx, feature_idx, new_value = query_parts[1] - 1, query_parts[2] - 1, query_parts[3]\n",
        "            ranking_system.update_feature(object_idx, feature_idx, new_value)  # Обновляем признак объекта\n",
        "\n",
        "    for result in results:\n",
        "        print(result)  # Выводим результаты всех запросов\n",
        "\n",
        "if __name__ == \"__main__\":\n",
        "    main()  # Запускаем главную функцию при выполнении скрипта\n"
      ]
    }
  ],
  "metadata": {
    "kernelspec": {
      "display_name": "Python 3",
      "language": "python",
      "name": "python3"
    },
    "language_info": {
      "codemirror_mode": {
        "name": "ipython",
        "version": 3
      },
      "file_extension": ".py",
      "mimetype": "text/x-python",
      "name": "python",
      "nbconvert_exporter": "python",
      "pygments_lexer": "ipython3",
      "version": "3.10.0"
    },
    "colab": {
      "provenance": []
    }
  },
  "nbformat": 4,
  "nbformat_minor": 0
}