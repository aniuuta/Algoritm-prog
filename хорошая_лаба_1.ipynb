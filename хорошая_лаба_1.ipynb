{
  "cells": [
    {
      "cell_type": "code",
      "execution_count": null,
      "metadata": {
        "colab": {
          "base_uri": "https://localhost:8080/"
        },
        "id": "wJqhufey0ybp",
        "outputId": "c04c0b4b-58bc-4910-f56b-326f30f06ab2"
      },
      "outputs": [
        {
          "output_type": "stream",
          "name": "stdout",
          "text": [
            "0 -> 1 -> 2 -> 3 -> 4 -> 5 -> None\n",
            "5 -> 4 -> 3 -> 2 -> 1 -> 0 -> None\n"
          ]
        }
      ],
      "source": [
        "class LinkedList:\n",
        "    class Node:\n",
        "        def __init__(self, key):\n",
        "            self.key = key\n",
        "            self.next = None\n",
        "\n",
        "    def __init__(self):\n",
        "        self.head = None\n",
        "\n",
        "    def __add_node_rec(self, node, key):\n",
        "        if node.next:\n",
        "            self.__add_node_rec(node.next, key)\n",
        "        else:\n",
        "            new_node = self.Node(key)\n",
        "            node.next = new_node\n",
        "\n",
        "    def add_element(self, key):\n",
        "        if self.head is None:\n",
        "            self.head = self.Node(key)\n",
        "        else:\n",
        "            self.__add_node_rec(self.head, key)\n",
        "\n",
        "    def __rev_list_rec(self, prev_node, curr_node):\n",
        "        if curr_node is None:\n",
        "            self.head = prev_node\n",
        "            return\n",
        "\n",
        "        next_node = curr_node.next\n",
        "        curr_node.next = prev_node\n",
        "\n",
        "        self.__rev_list_rec(curr_node, next_node)\n",
        "\n",
        "\n",
        "\n",
        "\n",
        "\n",
        "    def reverse_list(self):\n",
        "        if self.head is not None:\n",
        "            self.__rev_list_rec(None, self.head)\n",
        "\n",
        "\n",
        "    def list_elements(self):\n",
        "        tmp = self.head\n",
        "        while tmp:\n",
        "            print(tmp.key,\"->\", end =\" \")\n",
        "            tmp = tmp.next\n",
        "        print(\"None\")\n",
        "\n",
        "\n",
        "ll = LinkedList()\n",
        "for i in range(6):\n",
        "    ll.add_element(i)\n",
        "ll.list_elements()\n",
        "ll.reverse_list()\n",
        "ll.list_elements()\n",
        "\n",
        "\n"
      ]
    }
  ],
  "metadata": {
    "kernelspec": {
      "display_name": "Python 3",
      "language": "python",
      "name": "python3"
    },
    "language_info": {
      "codemirror_mode": {
        "name": "ipython",
        "version": 3
      },
      "file_extension": ".py",
      "mimetype": "text/x-python",
      "name": "python",
      "nbconvert_exporter": "python",
      "pygments_lexer": "ipython3",
      "version": "3.9.0"
    },
    "colab": {
      "provenance": []
    }
  },
  "nbformat": 4,
  "nbformat_minor": 0
}