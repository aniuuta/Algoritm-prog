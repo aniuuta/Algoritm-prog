class LinkedList:  
    class Node:  # Вложенный класс для представления узла списка
        def __init__(self, key):  # Конструктор узла, принимает ключ (значение узла)
            self.key = key  # Сохранение ключа
            self.next = None  # Изначально следующий узел равен None
  
    def __init__(self):  # Конструктор для связного списка
        self.head = None  # Изначально голова списка равна None
  
    def __add_node_rec(self, node, key):  # Рекурсивный метод для добавления узла
        if node.next:  # Если следующий узел существует
            self.__add_node_rec(node.next, key)  # Рекурсивно вызываем для следующего узла
        else:  # Если следующий узел отсутствует
            new_node = self.Node(key)  # Создаем новый узел с переданным ключом
            node.next = new_node  # Присоединяем новый узел к текущему
  
    def add_element(self, key):  # Метод для добавления элемента в список
        if self.head is None:  # Если список пуст (голова равна None)
            self.head = self.Node(key)  # Создаем новый узел и устанавливаем его как голову
        else:  
            self.__add_node_rec(self.head, key)  # Добавляем элемент рекурсивно
  
    def __rev_list_rec(self, prev_node, curr_node):  # Рекурсивный метод для реверсирования списка
        if curr_node is None:  # Если текущий узел равен None (достигли конца списка)
            self.head = prev_node  # Устанавливаем голову списка на предыдущий узел
            return  
  
        next_node = curr_node.next  # Сохраняем следующий узел
        curr_node.next = prev_node  # Меняем направление ссылки текущего узла на предыдущий
  
        self.__rev_list_rec(curr_node, next_node)  # Рекурсивный вызов для следующего узла
  
    def reverse_list(self):  # Метод для реверсирования списка
        if self.head is not None:  # Если список не пуст
            self.__rev_list_rec(None, self.head)  # Начинаем реверсирование с головы списка
  
    def list_elements(self):  # Метод для вывода элементов списка
        tmp = self.head  # Начинаем с головы списка
        while tmp:  # Пока текущий узел не равен None
            print(tmp.key,"->", end =" ")  # Печатаем ключ текущего узла и стрелку
            tmp = tmp.next  # Переходим к следующему узлу
        print("None")  # В конце выводим None, чтобы показать конец списка
  
# Пример использования связного списка
ll = LinkedList()  
for i in range(6):  # Добавляем элементы от 0 до 5 в список
    ll.add_element(i)  
ll.list_elements()  # Выводим элементы списка
ll.reverse_list()  # Реверсируем список
ll.list_elements()  # Выводим элементы списка после реверсирования
