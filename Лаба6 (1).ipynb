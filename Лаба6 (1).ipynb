{
  "cells": [
    {
      "cell_type": "code",
      "execution_count": 2,
      "metadata": {
        "colab": {
          "base_uri": "https://localhost:8080/"
        },
        "id": "WFvb6KlhTko1",
        "outputId": "84aceaa4-04e9-46d3-a70e-4e21ae4752d7"
      },
      "outputs": [
        {
          "output_type": "stream",
          "name": "stdout",
          "text": [
            "День с наибольшим количеством гостей: 2024-09-15, количество гостей: 4\n"
          ]
        }
      ],
      "source": [
        "from collections import defaultdict\n",
        "from datetime import datetime, timedelta\n",
        "\n",
        "def count_guests(visitors):\n",
        "    # Создаем словарь для хранения количества посетителей для каждой даты\n",
        "    guest_count = defaultdict(int)\n",
        "\n",
        "    # Проходим по каждому посетителю\n",
        "    for check_in, check_out in visitors:\n",
        "        # Преобразуем строки дат в объекты datetime\n",
        "        check_in_date = datetime.strptime(check_in, \"%Y-%m-%d\")\n",
        "        check_out_date = datetime.strptime(check_out, \"%Y-%m-%d\")\n",
        "\n",
        "        # Увеличиваем счетчик для каждой даты между заездом и отъездом (включительно)\n",
        "        current_date = check_in_date\n",
        "        while current_date <= check_out_date:\n",
        "            guest_count[current_date.date()] += 1  # Увеличиваем количество гостей для текущей даты\n",
        "            current_date += timedelta(days=1)  # Переходим к следующему дню\n",
        "\n",
        "    # Находим дату с максимальным количеством гостей\n",
        "    max_guests_date = max(guest_count, key=guest_count.get)\n",
        "    max_guests_count = guest_count[max_guests_date]\n",
        "\n",
        "    return max_guests_date, max_guests_count\n",
        "\n",
        "def main():\n",
        "    # Пример входных данных: список кортежей с датами заезда и отъезда\n",
        "    visitors = [\n",
        "        (\"2024-09-15\", \"2024-09-15\"),\n",
        "        (\"2024-09-14\", \"2024-09-21\"),\n",
        "        (\"2024-09-16\", \"2024-09-18\"),\n",
        "        (\"2024-09-15\", \"2024-09-17\"),\n",
        "        (\"2024-09-14\", \"2024-09-15\")\n",
        "    ]\n",
        "\n",
        "    # Получаем дату с максимальным количеством гостей и количество гостей в этот день\n",
        "    max_date, max_count = count_guests(visitors)\n",
        "\n",
        "    # Выводим результат\n",
        "    print(f\"День с наибольшим количеством гостей: {max_date}, количество гостей: {max_count}\")\n",
        "\n",
        "if __name__ == \"__main__\":\n",
        "    main()\n"
      ]
    },
    {
      "cell_type": "code",
      "source": [
        "###1. Импорт библиотек: Используются defaultdict из модуля collections для удобного подсчета и datetime для работы с датами.\n",
        "#2. Функция count_guests:\n",
        "\n",
        " #  • Создает словарь guest_count, который будет хранить количество гостей для каждой даты.\n",
        "\n",
        "  # • Проходит по каждому посетителю и преобразует даты заезда и отъезда из строкового формата в объекты datetime.\n",
        "\n",
        "   #• С помощью цикла while увеличивает счетчик для каждой даты между заездом и отъездом.\n",
        "\n",
        "#3. Поиск максимального значения: Использует функцию max() для нахождения даты с максимальным количеством гостей.\n",
        "\n",
        "#4. Функция main: Определяет входные данные, вызывает функцию подсчета гостей и выводит результат.\n",
        "\n",
        "#5. Запуск программы: Проверяет, запущен ли скрипт непосредственно, и вызывает функцию main.\n",
        "\n",
        "#Таким образом, программа определяет день с наибольшим количеством посетителей в отеле."
      ],
      "metadata": {
        "id": "eCiT9x_8eLlW"
      },
      "execution_count": 3,
      "outputs": []
    }
  ],
  "metadata": {
    "kernelspec": {
      "display_name": "Python 3",
      "language": "python",
      "name": "python3"
    },
    "language_info": {
      "codemirror_mode": {
        "name": "ipython",
        "version": 3
      },
      "file_extension": ".py",
      "mimetype": "text/x-python",
      "name": "python",
      "nbconvert_exporter": "python",
      "pygments_lexer": "ipython3",
      "version": "3.9.0"
    },
    "colab": {
      "provenance": []
    }
  },
  "nbformat": 4,
  "nbformat_minor": 0
}