{
  "nbformat": 4,
  "nbformat_minor": 0,
  "metadata": {
    "colab": {
      "provenance": []
    },
    "kernelspec": {
      "name": "python3",
      "display_name": "Python 3"
    },
    "language_info": {
      "name": "python"
    }
  },
  "cells": [
    {
      "cell_type": "code",
      "execution_count": 1,
      "metadata": {
        "colab": {
          "base_uri": "https://localhost:8080/"
        },
        "id": "v6fbptX8lIjd",
        "outputId": "9525bea7-4a7f-4dea-fe37-6703e6facaff"
      },
      "outputs": [
        {
          "output_type": "stream",
          "name": "stdout",
          "text": [
            "Расстояния от стартовой вершины 0:\n",
            "До вершины 0: 0\n",
            "До вершины 1: -1\n",
            "До вершины 2: 2\n",
            "До вершины 3: 1\n",
            "До вершины 4: -2\n"
          ]
        }
      ],
      "source": [
        "class Graph:\n",
        "    def __init__(self, vertices):\n",
        "        # Инициализируем граф с заданным количеством вершин\n",
        "        self.V = vertices  # Количество вершин\n",
        "        self.edges = []    # Список рёбер в виде (u, v, w)\n",
        "\n",
        "    def add_edge(self, u, v, w):\n",
        "        # Добавляем ребро (u, v) с весом w в граф\n",
        "        self.edges.append((u, v, w))\n",
        "\n",
        "    def bellman_ford(self, start):\n",
        "        # Инициализация расстояний от стартовой вершины\n",
        "        distance = [float(\"inf\")] * self.V\n",
        "        distance[start] = 0  # Расстояние до стартовой вершины равно 0\n",
        "\n",
        "        # Основной цикл, выполняется V-1 раз\n",
        "        for _ in range(self.V - 1):\n",
        "            for u, v, w in self.edges:\n",
        "                # Если расстояние до вершины u известно и меньше, чем текущее расстояние до v\n",
        "                if distance[u] != float(\"inf\") and distance[u] + w < distance[v]:\n",
        "                    distance[v] = distance[u] + w  # Обновляем расстояние до v\n",
        "\n",
        "        # Проверка на наличие отрицательных циклов\n",
        "        for u, v, w in self.edges:\n",
        "            if distance[u] != float(\"inf\") and distance[u] + w < distance[v]:\n",
        "                print(\"Граф содержит отрицательный цикл\")\n",
        "                return None\n",
        "\n",
        "        return distance  # Возвращаем массив расстояний до всех вершин\n",
        "\n",
        "\n",
        "if __name__ == \"__main__\":\n",
        "    # Создание графа с 5 вершинами\n",
        "    g = Graph(5)\n",
        "\n",
        "    # Добавление рёбер\n",
        "    g.add_edge(0, 1, -1)\n",
        "    g.add_edge(0, 2, 4)\n",
        "    g.add_edge(1, 2, 3)\n",
        "    g.add_edge(1, 3, 2)\n",
        "    g.add_edge(1, 4, 2)\n",
        "    g.add_edge(3, 1, 1)\n",
        "    g.add_edge(3, 4, -3)\n",
        "    g.add_edge(4, 0, 5)\n",
        "\n",
        "    # Запуск алгоритма из вершины 0\n",
        "    distances = g.bellman_ford(0)\n",
        "\n",
        "    if distances:\n",
        "        print(\"Расстояния от стартовой вершины 0:\")\n",
        "        for i in range(len(distances)):\n",
        "            print(f\"До вершины {i}: {distances[i]}\")\n"
      ]
    }
  ]
}